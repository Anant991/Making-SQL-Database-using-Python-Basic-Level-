{
 "cells": [
  {
   "cell_type": "code",
   "execution_count": 2,
   "id": "b85c6f57",
   "metadata": {},
   "outputs": [],
   "source": [
    "# We know that python is a popular high level,object oriented and interpreted language"
   ]
  },
  {
   "cell_type": "code",
   "execution_count": 4,
   "id": "98b387cc",
   "metadata": {},
   "outputs": [
    {
     "data": {
      "text/plain": [
       "''"
      ]
     },
     "execution_count": 4,
     "metadata": {},
     "output_type": "execute_result"
    }
   ],
   "source": [
    "'''\n",
    "Why we learn Python?:\n",
    "\n",
    "(i) Largest community of Learners and Collaborators\n",
    "(ii) Open Source\n",
    "(iii) Easy to learn and usable flexibility\n",
    "(iv) Huge numbers of python libraries and Frame work\n",
    "(v) Supports Automation\n",
    "\n",
    "'''\n",
    "\"\""
   ]
  },
  {
   "cell_type": "markdown",
   "id": "a559c836",
   "metadata": {},
   "source": [
    "# How to use My SQL with Python"
   ]
  },
  {
   "cell_type": "code",
   "execution_count": 5,
   "id": "901748ae",
   "metadata": {},
   "outputs": [
    {
     "name": "stdout",
     "output_type": "stream",
     "text": [
      "Requirement already satisfied: mysql-connector-python in c:\\users\\ccc\\anaconda3\\lib\\site-packages (8.0.31)\n",
      "Collecting protobuf<=3.20.1,>=3.11.0\n",
      "  Downloading protobuf-3.20.1-cp39-cp39-win_amd64.whl (904 kB)\n",
      "     -------------------------------------- 904.1/904.1 kB 1.4 MB/s eta 0:00:00\n",
      "Installing collected packages: protobuf\n",
      "Successfully installed protobuf-3.20.1\n",
      "Note: you may need to restart the kernel to use updated packages.\n"
     ]
    }
   ],
   "source": [
    "pip install mysql-connector-python"
   ]
  },
  {
   "cell_type": "markdown",
   "id": "003b4d3a",
   "metadata": {},
   "source": [
    "# 1.How to Create Connection with My SQL Server"
   ]
  },
  {
   "cell_type": "code",
   "execution_count": 2,
   "id": "f4c411cb",
   "metadata": {},
   "outputs": [
    {
     "name": "stdout",
     "output_type": "stream",
     "text": [
      "<mysql.connector.connection_cext.CMySQLConnection object at 0x00000154EA2E1970>\n"
     ]
    }
   ],
   "source": [
    "import mysql.connector\n",
    "\n",
    "mydb = mysql.connector.connect(\n",
    "  host=\"localhost\",\n",
    "  user=\"root\",\n",
    "  password=\"Anant@123\"\n",
    ")\n",
    "\n",
    "print(mydb)"
   ]
  },
  {
   "cell_type": "markdown",
   "id": "fb7d5b47",
   "metadata": {},
   "source": [
    "# 2.How to Create Database "
   ]
  },
  {
   "cell_type": "code",
   "execution_count": 3,
   "id": "00d62606",
   "metadata": {},
   "outputs": [],
   "source": [
    "import mysql.connector\n",
    "\n",
    "mydb=mysql.connector.connect(host=\"localhost\",user=\"root\",password=\"Anant@123\")\n",
    "mycursor=mydb.cursor()\n",
    "mycursor.execute(\"CREATE DATABASE Python_Database\")"
   ]
  },
  {
   "cell_type": "markdown",
   "id": "60c0b800",
   "metadata": {},
   "source": [
    "# Check if Database Exists"
   ]
  },
  {
   "cell_type": "code",
   "execution_count": 5,
   "id": "38c137f8",
   "metadata": {},
   "outputs": [
    {
     "name": "stdout",
     "output_type": "stream",
     "text": [
      "('information_schema',)\n",
      "('mysql',)\n",
      "('performance_schema',)\n",
      "('python_database',)\n",
      "('sakila',)\n",
      "('sys',)\n",
      "('world',)\n"
     ]
    }
   ],
   "source": [
    "import mysql.connector\n",
    "\n",
    "mydb = mysql.connector.connect(\n",
    "  host=\"localhost\",\n",
    "  user=\"root\",\n",
    "  password=\"Anant@123\"\n",
    ")\n",
    "\n",
    "mycursor = mydb.cursor()\n",
    "\n",
    "mycursor.execute(\"SHOW DATABASES\")\n",
    "\n",
    "for x in mycursor:\n",
    "    print(x)"
   ]
  },
  {
   "cell_type": "markdown",
   "id": "c4cafae5",
   "metadata": {},
   "source": [
    "# 3.How to Create Table"
   ]
  },
  {
   "cell_type": "code",
   "execution_count": 11,
   "id": "36a0db0f",
   "metadata": {},
   "outputs": [],
   "source": [
    "import mysql.connector\n",
    "\n",
    "mydb = mysql.connector.connect(\n",
    "  host=\"localhost\",\n",
    "  user=\"root\",\n",
    "  password=\"Anant@123\",\n",
    "  database=\"python_database\"\n",
    ")\n",
    "\n",
    "mycursor = mydb.cursor()\n",
    "\n",
    "table=\"CREATE TABLE Book(bookid integer(4),Title varchar(20),Price float(5,2))\"\n",
    "mycursor.execute(table)"
   ]
  },
  {
   "cell_type": "markdown",
   "id": "376b6099",
   "metadata": {},
   "source": [
    "# Check if Database Exists"
   ]
  },
  {
   "cell_type": "code",
   "execution_count": 12,
   "id": "619e6575",
   "metadata": {},
   "outputs": [
    {
     "name": "stdout",
     "output_type": "stream",
     "text": [
      "('book',)\n"
     ]
    }
   ],
   "source": [
    "import mysql.connector\n",
    "\n",
    "mydb = mysql.connector.connect(\n",
    "  host=\"localhost\",\n",
    "  user=\"root\",\n",
    "  password=\"Anant@123\",\n",
    "  database=\"python_database\"\n",
    ")\n",
    "\n",
    "mycursor = mydb.cursor()\n",
    "\n",
    "mycursor.execute(\"SHOW TABLES\")\n",
    "\n",
    "for x in mycursor:\n",
    "    print(x)"
   ]
  },
  {
   "cell_type": "code",
   "execution_count": 14,
   "id": "d7658672",
   "metadata": {},
   "outputs": [],
   "source": [
    "import mysql.connector\n",
    "\n",
    "mydb=mysql.connector.connect(host=\"localhost\",user=\"root\",password=\"Anant@123\")\n",
    "mycursor=mydb.cursor()\n",
    "mycursor.execute(\"CREATE DATABASE python_database_1\")"
   ]
  },
  {
   "cell_type": "code",
   "execution_count": null,
   "id": "34961909",
   "metadata": {},
   "outputs": [],
   "source": []
  },
  {
   "cell_type": "markdown",
   "id": "87f35b37",
   "metadata": {},
   "source": [
    "# 4.How to Insert Data into Table"
   ]
  },
  {
   "cell_type": "code",
   "execution_count": 16,
   "id": "44e3b348",
   "metadata": {},
   "outputs": [],
   "source": [
    "import mysql.connector\n",
    "\n",
    "mydb = mysql.connector.connect(\n",
    "  host=\"localhost\",\n",
    "  user=\"root\",\n",
    "  password=\"Anant@123\",\n",
    "  database=\"python_database\"\n",
    ")\n",
    "\n",
    "mycursor = mydb.cursor()\n",
    "\n",
    "insert=\"INSERT INTO book(bookid,title,price) VALUES(%s,%s,%s)\"\n",
    "value=(1,\"Python\",345)\n",
    "\n",
    "mycursor.execute(insert, value)\n",
    "\n",
    "mydb.commit()"
   ]
  },
  {
   "cell_type": "markdown",
   "id": "418d3501",
   "metadata": {},
   "source": [
    "# 5.How to Insert Multiple Data into Table"
   ]
  },
  {
   "cell_type": "code",
   "execution_count": 18,
   "id": "9d45165c",
   "metadata": {},
   "outputs": [],
   "source": [
    "import mysql.connector\n",
    "\n",
    "mydb = mysql.connector.connect(\n",
    "  host=\"localhost\",\n",
    "  user=\"root\",\n",
    "  password=\"Anant@123\",\n",
    "  database=\"python_database\"\n",
    ")\n",
    "\n",
    "mycursor = mydb.cursor()\n",
    "\n",
    "insert=\"INSERT INTO book(bookid,title,price) VALUES(%s,%s,%s)\"\n",
    "books=[(2,\"PHP\",145),(3,\"Java\",450),(4,\"C\",120),(5,\"HTML\",250),(6,\"CSS\",230),(7,\"C++\",180)]\n",
    "\n",
    "mycursor.executemany(insert,books)\n",
    "\n",
    "mydb.commit()"
   ]
  },
  {
   "cell_type": "code",
   "execution_count": 19,
   "id": "4f4218c9",
   "metadata": {},
   "outputs": [
    {
     "name": "stdout",
     "output_type": "stream",
     "text": [
      "6 was inserted.\n"
     ]
    }
   ],
   "source": [
    "print(mycursor.rowcount, \"was inserted.\")"
   ]
  },
  {
   "cell_type": "markdown",
   "id": "b1d0e142",
   "metadata": {},
   "source": [
    "# How to see our Inserted Data"
   ]
  },
  {
   "cell_type": "code",
   "execution_count": 22,
   "id": "af4a2785",
   "metadata": {},
   "outputs": [
    {
     "name": "stdout",
     "output_type": "stream",
     "text": [
      "(1, 'Python', 345.0)\n",
      "(2, 'PHP', 145.0)\n",
      "(3, 'Java', 450.0)\n",
      "(4, 'C', 120.0)\n",
      "(5, 'HTML', 250.0)\n",
      "(6, 'CSS', 230.0)\n",
      "(7, 'C++', 180.0)\n"
     ]
    }
   ],
   "source": [
    "import mysql.connector\n",
    "\n",
    "mydb = mysql.connector.connect(\n",
    "  host=\"localhost\",\n",
    "  user=\"root\",\n",
    "  password=\"Anant@123\",\n",
    "  database=\"python_database\"\n",
    ")\n",
    "\n",
    "mycursor = mydb.cursor()\n",
    "\n",
    "mycursor.execute(\"SELECT * FROM book\")\n",
    "\n",
    "myresult = mycursor.fetchall()\n",
    "\n",
    "for x in myresult:\n",
    "    print(x)"
   ]
  },
  {
   "cell_type": "markdown",
   "id": "0b699d19",
   "metadata": {},
   "source": [
    "# 6.Selecting Columns"
   ]
  },
  {
   "cell_type": "code",
   "execution_count": 28,
   "id": "147a91e7",
   "metadata": {},
   "outputs": [
    {
     "name": "stdout",
     "output_type": "stream",
     "text": [
      "('Python',)\n",
      "('PHP',)\n",
      "('Java',)\n",
      "('C',)\n",
      "('HTML',)\n",
      "('CSS',)\n",
      "('C++',)\n"
     ]
    }
   ],
   "source": [
    "import mysql.connector\n",
    "\n",
    "mydb = mysql.connector.connect(\n",
    "  host=\"localhost\",\n",
    "  user=\"root\",\n",
    "  password=\"Anant@123\",\n",
    "  database=\"python_database\"\n",
    ")\n",
    "\n",
    "mycursor = mydb.cursor()\n",
    "\n",
    "mycursor.execute(\"SELECT Title FROM book\")\n",
    "\n",
    "myresult = mycursor.fetchall()\n",
    "\n",
    "for x in myresult:\n",
    "    print(x)"
   ]
  },
  {
   "cell_type": "code",
   "execution_count": 29,
   "id": "526b0cb7",
   "metadata": {},
   "outputs": [
    {
     "name": "stdout",
     "output_type": "stream",
     "text": [
      "('Python', 345.0)\n",
      "('PHP', 145.0)\n",
      "('Java', 450.0)\n",
      "('C', 120.0)\n",
      "('HTML', 250.0)\n",
      "('CSS', 230.0)\n",
      "('C++', 180.0)\n"
     ]
    }
   ],
   "source": [
    "import mysql.connector\n",
    "\n",
    "mydb = mysql.connector.connect(\n",
    "  host=\"localhost\",\n",
    "  user=\"root\",\n",
    "  password=\"Anant@123\",\n",
    "  database=\"python_database\"\n",
    ")\n",
    "\n",
    "mycursor = mydb.cursor()\n",
    "\n",
    "mycursor.execute(\"SELECT Title,price FROM book\")\n",
    "\n",
    "myresult = mycursor.fetchall()\n",
    "\n",
    "for x in myresult:\n",
    "    print(x)"
   ]
  },
  {
   "cell_type": "markdown",
   "id": "3bb758c0",
   "metadata": {},
   "source": [
    "# fetchone() Method"
   ]
  },
  {
   "cell_type": "code",
   "execution_count": 31,
   "id": "8e26eba1",
   "metadata": {},
   "outputs": [],
   "source": [
    "# If you are only interested in one row, you can use the fetchone() method\n",
    "\n",
    "# The fetchone() method will return the first row of the result"
   ]
  },
  {
   "cell_type": "code",
   "execution_count": 30,
   "id": "abdd8b5f",
   "metadata": {},
   "outputs": [
    {
     "name": "stdout",
     "output_type": "stream",
     "text": [
      "(1, 'Python', 345.0)\n"
     ]
    }
   ],
   "source": [
    "import mysql.connector\n",
    "\n",
    "mydb = mysql.connector.connect(\n",
    "  host=\"localhost\",\n",
    "  user=\"root\",\n",
    "  password=\"Anant@123\",\n",
    "  database=\"python_database\"\n",
    ")\n",
    "\n",
    "mycursor = mydb.cursor()\n",
    "\n",
    "mycursor.execute(\"SELECT * FROM book\")\n",
    "\n",
    "myresult = mycursor.fetchone()\n",
    "\n",
    "print(myresult)"
   ]
  },
  {
   "cell_type": "markdown",
   "id": "9877f905",
   "metadata": {},
   "source": [
    "# 7.Python MySQL Where"
   ]
  },
  {
   "cell_type": "code",
   "execution_count": 32,
   "id": "377df48d",
   "metadata": {},
   "outputs": [],
   "source": [
    "# When selecting records from a table, you can filter the selection by using the \"WHERE\" statement"
   ]
  },
  {
   "cell_type": "code",
   "execution_count": 33,
   "id": "36292117",
   "metadata": {},
   "outputs": [
    {
     "name": "stdout",
     "output_type": "stream",
     "text": [
      "(5, 'HTML', 250.0)\n"
     ]
    }
   ],
   "source": [
    "import mysql.connector\n",
    "\n",
    "mydb = mysql.connector.connect(\n",
    "  host=\"localhost\",\n",
    "  user=\"root\",\n",
    "  password=\"Anant@123\",\n",
    "  database=\"python_database\"\n",
    ")\n",
    "\n",
    "mycursor = mydb.cursor()\n",
    "\n",
    "sql = \"SELECT * FROM book WHERE title ='HTML'\"\n",
    "\n",
    "mycursor.execute(sql)\n",
    "\n",
    "myresult = mycursor.fetchall()\n",
    "\n",
    "for x in myresult:\n",
    "    print(x)"
   ]
  },
  {
   "cell_type": "markdown",
   "id": "cf64935a",
   "metadata": {},
   "source": [
    "# Wildcard Characters"
   ]
  },
  {
   "cell_type": "code",
   "execution_count": 10,
   "id": "76e3985f",
   "metadata": {},
   "outputs": [],
   "source": [
    "# We can also select the records that starts, includes, or ends with a given letter or phrase.\n",
    "\n",
    "# Use the %  to represent wildcard characters"
   ]
  },
  {
   "cell_type": "code",
   "execution_count": 36,
   "id": "0f417e49",
   "metadata": {},
   "outputs": [
    {
     "name": "stdout",
     "output_type": "stream",
     "text": [
      "(4, 'C', 120.0)\n"
     ]
    }
   ],
   "source": [
    "import mysql.connector\n",
    "\n",
    "mydb = mysql.connector.connect(\n",
    "  host=\"localhost\",\n",
    "  user=\"root\",\n",
    "  password=\"Anant@123\",\n",
    "  database=\"python_database\"\n",
    ")\n",
    "\n",
    "mycursor = mydb.cursor()\n",
    "\n",
    "sql = \"SELECT * FROM book WHERE price LIKE '%120%'\"\n",
    "\n",
    "mycursor.execute(sql)\n",
    "\n",
    "myresult = mycursor.fetchall()\n",
    "\n",
    "for x in myresult:\n",
    "    print(x)"
   ]
  },
  {
   "cell_type": "markdown",
   "id": "5440de62",
   "metadata": {},
   "source": [
    "# Prevent SQL Injection"
   ]
  },
  {
   "cell_type": "code",
   "execution_count": 37,
   "id": "0f9d6e61",
   "metadata": {},
   "outputs": [],
   "source": [
    "# When query values are provided by the user, you should escape the values\n",
    "\n",
    "# This is to prevent SQL injections, which is a common web hacking technique to destroy or misuse your database\n",
    "\n",
    "# The mysql.connector module has methods to escape query values"
   ]
  },
  {
   "cell_type": "code",
   "execution_count": 2,
   "id": "73463bbb",
   "metadata": {},
   "outputs": [],
   "source": [
    "import mysql.connector\n",
    "\n",
    "mydb = mysql.connector.connect(\n",
    "  host=\"localhost\",\n",
    "  user=\"root\",\n",
    "  password=\"Anant@123\",\n",
    "  database=\"python_database\"\n",
    ")\n",
    "\n",
    "mycursor = mydb.cursor()\n",
    "\n",
    "sql = \"SELECT * FROM book WHERE price = %s\"\n",
    "price = (\"C\",)\n",
    "\n",
    "mycursor.execute(sql, price)\n",
    "\n",
    "myresult = mycursor.fetchall()\n",
    "\n",
    "for x in myresult:\n",
    "    print(x)"
   ]
  },
  {
   "cell_type": "code",
   "execution_count": null,
   "id": "19f6a174",
   "metadata": {},
   "outputs": [],
   "source": []
  },
  {
   "cell_type": "markdown",
   "id": "6c5c2798",
   "metadata": {},
   "source": [
    "# 8.Python MySQL Delete"
   ]
  },
  {
   "cell_type": "code",
   "execution_count": 9,
   "id": "1b7f0636",
   "metadata": {},
   "outputs": [],
   "source": [
    "# WE can delete records from an existing table by using the \"DELETE FROM\" statement"
   ]
  },
  {
   "cell_type": "code",
   "execution_count": 4,
   "id": "e8557891",
   "metadata": {},
   "outputs": [],
   "source": [
    "import mysql.connector\n",
    "\n",
    "mydb = mysql.connector.connect(\n",
    "  host=\"localhost\",\n",
    "  user=\"root\",\n",
    "  password=\"Anant@123\",\n",
    "  database=\"python_database\"\n",
    ")\n",
    "\n",
    "mycursor = mydb.cursor()\n",
    "\n",
    "sql = \"DELETE FROM book WHERE title = 'C++'\"\n",
    "\n",
    "mycursor.execute(sql)\n",
    "\n",
    "mydb.commit()"
   ]
  },
  {
   "cell_type": "code",
   "execution_count": 5,
   "id": "1592b997",
   "metadata": {},
   "outputs": [
    {
     "name": "stdout",
     "output_type": "stream",
     "text": [
      "('Python', 345.0)\n",
      "('PHP', 145.0)\n",
      "('Java', 450.0)\n",
      "('C', 120.0)\n",
      "('HTML', 250.0)\n",
      "('CSS', 230.0)\n"
     ]
    }
   ],
   "source": [
    "import mysql.connector\n",
    "\n",
    "mydb = mysql.connector.connect(\n",
    "  host=\"localhost\",\n",
    "  user=\"root\",\n",
    "  password=\"Anant@123\",\n",
    "  database=\"python_database\"\n",
    ")\n",
    "\n",
    "mycursor = mydb.cursor()\n",
    "\n",
    "mycursor.execute(\"SELECT Title,price FROM book\")\n",
    "\n",
    "myresult = mycursor.fetchall()\n",
    "\n",
    "for x in myresult:\n",
    "    print(x)"
   ]
  },
  {
   "cell_type": "markdown",
   "id": "32405562",
   "metadata": {},
   "source": [
    "# Other Method"
   ]
  },
  {
   "cell_type": "code",
   "execution_count": 6,
   "id": "5f90a822",
   "metadata": {},
   "outputs": [],
   "source": [
    "import mysql.connector\n",
    "\n",
    "mydb = mysql.connector.connect(\n",
    "  host=\"localhost\",\n",
    "  user=\"root\",\n",
    "  password=\"Anant@123\",\n",
    "  database=\"python_database\"\n",
    ")\n",
    "\n",
    "mycursor = mydb.cursor()\n",
    "\n",
    "sql = \"DELETE FROM book WHERE title = %s\"\n",
    "adr = (\"C\", )\n",
    "\n",
    "mycursor.execute(sql, adr)\n",
    "\n",
    "mydb.commit()"
   ]
  },
  {
   "cell_type": "code",
   "execution_count": 7,
   "id": "cd6387a9",
   "metadata": {},
   "outputs": [
    {
     "name": "stdout",
     "output_type": "stream",
     "text": [
      "('Python', 345.0)\n",
      "('PHP', 145.0)\n",
      "('Java', 450.0)\n",
      "('HTML', 250.0)\n",
      "('CSS', 230.0)\n"
     ]
    }
   ],
   "source": [
    "import mysql.connector\n",
    "\n",
    "mydb = mysql.connector.connect(\n",
    "  host=\"localhost\",\n",
    "  user=\"root\",\n",
    "  password=\"Anant@123\",\n",
    "  database=\"python_database\"\n",
    ")\n",
    "\n",
    "mycursor = mydb.cursor()\n",
    "\n",
    "mycursor.execute(\"SELECT Title,price FROM book\")\n",
    "\n",
    "myresult = mycursor.fetchall()\n",
    "\n",
    "for x in myresult:\n",
    "    print(x)"
   ]
  },
  {
   "cell_type": "markdown",
   "id": "184298d7",
   "metadata": {},
   "source": [
    "# 9.Python MySQL Update Table"
   ]
  },
  {
   "cell_type": "code",
   "execution_count": 8,
   "id": "a5601816",
   "metadata": {},
   "outputs": [],
   "source": [
    "# You can update existing records in a table by using the \"UPDATE\" statement"
   ]
  },
  {
   "cell_type": "code",
   "execution_count": 11,
   "id": "3101644b",
   "metadata": {},
   "outputs": [],
   "source": [
    "import mysql.connector\n",
    "\n",
    "mydb = mysql.connector.connect(\n",
    "  host=\"localhost\",\n",
    "  user=\"root\",\n",
    "  password=\"Anant@123\",\n",
    "  database=\"python_database\"\n",
    ")\n",
    "\n",
    "mycursor = mydb.cursor()\n",
    "\n",
    "update=\"UPDATE book SET price=price+25 WHERE price>200\"\n",
    "\n",
    "mycursor.execute(update)\n",
    "\n",
    "mydb.commit()"
   ]
  },
  {
   "cell_type": "code",
   "execution_count": 13,
   "id": "4de98f08",
   "metadata": {},
   "outputs": [
    {
     "name": "stdout",
     "output_type": "stream",
     "text": [
      "('Python', 370.0)\n",
      "('PHP', 145.0)\n",
      "('Java', 475.0)\n",
      "('HTML', 275.0)\n",
      "('CSS', 255.0)\n"
     ]
    }
   ],
   "source": [
    "import mysql.connector\n",
    "\n",
    "mydb = mysql.connector.connect(\n",
    "  host=\"localhost\",\n",
    "  user=\"root\",\n",
    "  password=\"Anant@123\",\n",
    "  database=\"python_database\"\n",
    ")\n",
    "\n",
    "mycursor = mydb.cursor()\n",
    "\n",
    "mycursor.execute(\"SELECT Title,price FROM book\")\n",
    "\n",
    "myresult = mycursor.fetchall()\n",
    "\n",
    "for x in myresult:\n",
    "    print(x)"
   ]
  },
  {
   "cell_type": "markdown",
   "id": "68bac98e",
   "metadata": {},
   "source": [
    "# 10.Python MySQL Join"
   ]
  },
  {
   "cell_type": "code",
   "execution_count": null,
   "id": "d099ca2e",
   "metadata": {},
   "outputs": [],
   "source": []
  },
  {
   "cell_type": "markdown",
   "id": "eb343c20",
   "metadata": {},
   "source": [
    "# 11.Python MySQL Drop Table"
   ]
  },
  {
   "cell_type": "code",
   "execution_count": 14,
   "id": "f9f8bdd2",
   "metadata": {},
   "outputs": [],
   "source": [
    "# You can delete an existing table by using the \"DROP TABLE\" statement"
   ]
  },
  {
   "cell_type": "code",
   "execution_count": 15,
   "id": "7b342a0c",
   "metadata": {},
   "outputs": [],
   "source": [
    "import mysql.connector\n",
    "\n",
    "mydb = mysql.connector.connect(\n",
    "  host=\"localhost\",\n",
    "  user=\"root\",\n",
    "  password=\"Anant@123\",\n",
    "  database=\"python_database\"\n",
    ")\n",
    "\n",
    "mycursor = mydb.cursor()\n",
    "\n",
    "drop_table = \"DROP TABLE book\"\n",
    "\n",
    "mycursor.execute(drop_table)"
   ]
  },
  {
   "cell_type": "code",
   "execution_count": 19,
   "id": "ec347ce9",
   "metadata": {},
   "outputs": [],
   "source": [
    "import mysql.connector\n",
    "\n",
    "mydb = mysql.connector.connect(\n",
    "  host=\"localhost\",\n",
    "  user=\"root\",\n",
    "  password=\"Anant@123\",\n",
    "  database=\"python_database\"\n",
    ")\n",
    "\n",
    "mycursor = mydb.cursor()\n",
    "\n",
    "mycursor.execute(\"SHOW TABLES\")\n",
    "\n",
    "for x in mycursor:\n",
    "    print(x)\n",
    "    \n",
    "# No Data/Result shows after execution of program bcoz the created table is Dropped/Deleted"
   ]
  }
 ],
 "metadata": {
  "kernelspec": {
   "display_name": "Python 3 (ipykernel)",
   "language": "python",
   "name": "python3"
  },
  "language_info": {
   "codemirror_mode": {
    "name": "ipython",
    "version": 3
   },
   "file_extension": ".py",
   "mimetype": "text/x-python",
   "name": "python",
   "nbconvert_exporter": "python",
   "pygments_lexer": "ipython3",
   "version": "3.9.13"
  }
 },
 "nbformat": 4,
 "nbformat_minor": 5
}
